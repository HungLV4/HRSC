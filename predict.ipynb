{
 "cells": [
  {
   "cell_type": "markdown",
   "metadata": {},
   "source": [
    "# Bài tập lớn môn Trí Tuệ Nhân Tạo\n",
    "\n",
    "## Đề tài: Phân loại tàu thuyền\n",
    "\n",
    "### Mô tả bài toán\n",
    "Cho bộ dữ liệu HRSC2016 bao gồm 1680 ảnh tàu chụp từ vệ tinh. Được mô tả tại link [HRSC2016](https://sites.google.com/site/hrsc2016/)\n",
    "\n",
    "Bộ dữ liệu được chia ra thành 2 phần train/val và test theo tỉ lệ 3 : 1\n",
    "\n",
    "Yêu cầu xây dựng bộ phân lớp tàu theo các class và layer"
   ]
  },
  {
   "cell_type": "markdown",
   "metadata": {},
   "source": [
    "### Test"
   ]
  },
  {
   "cell_type": "markdown",
   "metadata": {},
   "source": [
    "Import 2 thư viện\n",
    "- pickle để load object từ file\n",
    "- cv2 là opencv, dùng để lấy features từ ảnh"
   ]
  },
  {
   "cell_type": "code",
   "execution_count": 1,
   "metadata": {
    "collapsed": true
   },
   "outputs": [],
   "source": [
    "import pickle as pkl\n",
    "import cv2"
   ]
  },
  {
   "cell_type": "markdown",
   "metadata": {},
   "source": [
    "Load model, giả sử model được để trong thư mục ___models___ với tên là ___bovw.sav___ (Bag Of Visual Words)"
   ]
  },
  {
   "cell_type": "code",
   "execution_count": 2,
   "metadata": {
    "collapsed": true
   },
   "outputs": [],
   "source": [
    "model = pkl.load(open(\"models/bovw.sav\", \"rb\"))"
   ]
  },
  {
   "cell_type": "markdown",
   "metadata": {},
   "source": [
    "Do pickle không dump được cv2.xfeatures2d.SIFT object nên phải gán thủ công\n",
    "\n",
    "Tham số của thuật toán SIFT đã được chọn tối ưu"
   ]
  },
  {
   "cell_type": "code",
   "execution_count": 3,
   "metadata": {
    "collapsed": true
   },
   "outputs": [],
   "source": [
    "model.xfeat = cv2.xfeatures2d.SIFT_create(250, edgeThreshold=50, contrastThreshold=0.02)"
   ]
  },
  {
   "cell_type": "markdown",
   "metadata": {},
   "source": [
    "Để test, gọi hàm score(/path/) với ___path___ là đường dẫn tới thư mục chứa ảnh test\n",
    "\n",
    "Ảnh test yêu cầu là ảnh tàu hoặc xung quang tàu (cắt theo bounding box ở file xml), càng chứa ít nhiễu càng tốt"
   ]
  },
  {
   "cell_type": "code",
   "execution_count": 4,
   "metadata": {},
   "outputs": [],
   "source": [
    "model.verbose = False # Tắt log\n",
    "\n",
    "# path = ....\n",
    "# acc = model.score(path)\n",
    "# print(\"Accuracy\", acc)"
   ]
  }
 ],
 "metadata": {
  "kernelspec": {
   "display_name": "Python 3",
   "language": "python",
   "name": "python3"
  },
  "language_info": {
   "codemirror_mode": {
    "name": "ipython",
    "version": 3
   },
   "file_extension": ".py",
   "mimetype": "text/x-python",
   "name": "python",
   "nbconvert_exporter": "python",
   "pygments_lexer": "ipython3",
   "version": "3.4.5"
  }
 },
 "nbformat": 4,
 "nbformat_minor": 2
}
